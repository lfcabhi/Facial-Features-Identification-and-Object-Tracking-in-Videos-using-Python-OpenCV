{
 "cells": [
  {
   "cell_type": "code",
   "execution_count": 1,
   "metadata": {},
   "outputs": [],
   "source": [
    "import cv2\n",
    "import numpy as np"
   ]
  },
  {
   "cell_type": "code",
   "execution_count": 2,
   "metadata": {},
   "outputs": [],
   "source": [
    "# Load the Haar cascade file\n",
    "face_cascade = cv2.CascadeClassifier('C:/Users/Abhishek/Documents/DL code/Jupyter_Notebooks/FINAL/haar_cascade_files/haarcascade_frontalface_default.xml')\n",
    "# Check if the cascade file has been loaded correctly\n",
    "if face_cascade.empty():\n",
    "    raise IOError('Unable to load the face cascade classifier xml file')"
   ]
  },
  {
   "cell_type": "code",
   "execution_count": 3,
   "metadata": {},
   "outputs": [],
   "source": [
    "# Initialize the video capture object\n",
    "video_src = 'C:/Users/Abhishek/Documents/DL code/Jupyter_Notebooks/video.mp4'\n",
    "cap = cv2.VideoCapture('C:/Users/Abhishek/Documents/DL code/Jupyter_Notebooks/video.mp4')\n",
    "# Define the scaling factor\n",
    "scaling_factor = 0.8"
   ]
  },
  {
   "cell_type": "code",
   "execution_count": 4,
   "metadata": {},
   "outputs": [],
   "source": [
    "# Iterate until the user hits the 'Esc' key\n",
    "\n",
    "#faces = face_cascade.detectMultiScale(gray, 1.06, 3)\n",
    "#FINAL PARAM = (gray, 1.2, 5)\n",
    "while True:\n",
    "# Capture the current frame\n",
    "    _, frame = cap.read()\n",
    "    if (type(frame)== type(None)):\n",
    "        break\n",
    "    gray= cv2.cvtColor(frame, cv2.COLOR_BGR2GRAY)\n",
    "    \n",
    "    face = face_cascade.detectMultiScale(gray, 1.2, 5)\n",
    "    \n",
    "    for (x,y,w,h) in face:\n",
    "        cv2.rectangle(frame,(x,y),(x+w,y+h),(255,0,0),2)\n",
    "        \n",
    "    cv2.imshow('cap', frame)\n",
    "    \n",
    "    if cv2.waitKey(33) == 27:\n",
    "        break\n",
    "\n",
    "        vc2.destroyAllWindows()"
   ]
  },
  {
   "cell_type": "code",
   "execution_count": null,
   "metadata": {},
   "outputs": [],
   "source": []
  }
 ],
 "metadata": {
  "kernelspec": {
   "display_name": "Python 3",
   "language": "python",
   "name": "python3"
  },
  "language_info": {
   "codemirror_mode": {
    "name": "ipython",
    "version": 3
   },
   "file_extension": ".py",
   "mimetype": "text/x-python",
   "name": "python",
   "nbconvert_exporter": "python",
   "pygments_lexer": "ipython3",
   "version": "3.7.6"
  }
 },
 "nbformat": 4,
 "nbformat_minor": 4
}
