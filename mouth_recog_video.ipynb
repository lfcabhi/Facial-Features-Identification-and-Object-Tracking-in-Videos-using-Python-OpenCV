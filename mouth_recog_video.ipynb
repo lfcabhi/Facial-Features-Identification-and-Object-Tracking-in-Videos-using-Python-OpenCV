{
 "cells": [
  {
   "cell_type": "code",
   "execution_count": 1,
   "metadata": {},
   "outputs": [],
   "source": [
    "import cv2\n",
    "import numpy as np\n",
    "from IPython.display import Image\n",
    "\n",
    "face_cascade = cv2.CascadeClassifier('haar_cascade_files/haarcascade_frontalface_extended.xml')\n",
    "mouth_cascade = cv2.CascadeClassifier('C:/Users/Abhishek/Documents/DL code/Jupyter_Notebooks/FINAL/haar_cascade_files/haarcascade_mcs_mouth.xml')\n",
    "eye_cascade = cv2.CascadeClassifier ('C:/Users/Abhishek/Documents/DL code/Jupyter_Notebooks/FINAL/haar_cascade_files/haarcascade_eye_tree_eyeglasses.xml')\n",
    "if mouth_cascade.empty():\n",
    "    raise IOError('Unable to load the mouth cascade classifier xml file')    "
   ]
  },
  {
   "cell_type": "code",
   "execution_count": 2,
   "metadata": {},
   "outputs": [],
   "source": [
    "# Initialize the video capture object\n",
    "#video_src = 'C:/Users/Abhishek/Documents/DL code/Jupyter_Notebooks/video2.mp4'\n",
    "cap = cv2.VideoCapture('C:/Users/Abhishek/Documents/DL code/Jupyter_Notebooks/video2.mp4')\n",
    "# Define the scaling factor\n",
    "scaling_factor = 0.8"
   ]
  },
  {
   "cell_type": "code",
   "execution_count": null,
   "metadata": {},
   "outputs": [],
   "source": [
    "# Iterate until the user hits the 'Esc' key\n",
    "\n",
    "#faces = face_cascade.detectMultiScale(gray, 1.06, 6)\n",
    "while True:\n",
    "# Capture the current frame\n",
    "    _, frame = cap.read()\n",
    "    frame = cv2.resize(frame, None, fx=0.8, fy=0.8, interpolation=cv2.INTER_AREA)\n",
    "    if (type(frame)== type(None)):\n",
    "        break\n",
    "    gray= cv2.cvtColor(frame, cv2.COLOR_BGR2GRAY)\n",
    "    \n",
    "    face = face_cascade.detectMultiScale(gray, 1.04, 4)\n",
    "    \n",
    "    for (x,y,w,h) in face:\n",
    "        cv2.rectangle(frame,(x,y),(x+w,y+h),(0,255,255),2)\n",
    "        roi_gray = gray[y:y+h, x:x+w]\n",
    "        roi_color = frame[y:y+h, x:x+w]\n",
    "        mouth = mouth_cascade.detectMultiScale(roi_gray)\n",
    "        eyes = eye_cascade.detectMultiScale(roi_gray)\n",
    "        for (ex,ey,ew,eh) in eyes:\n",
    "            cv2.rectangle(roi_color,(ex,ey),(ex+ew,ey+eh),(255,0,0),2)\n",
    "        \n",
    "        for (ex,ey,ew,eh) in mouth:\n",
    "            cv2.rectangle(roi_color,(ex,ey),(ex+ew,ey+eh),(0,255,0),2)\n",
    "            \n",
    "        \n",
    "    cv2.imshow('cap', frame)\n",
    "    \n",
    "    if cv2.waitKey(33) == 27:\n",
    "        break\n",
    "\n",
    "        vc2.destroyAllWindows()"
   ]
  },
  {
   "cell_type": "code",
   "execution_count": null,
   "metadata": {},
   "outputs": [],
   "source": []
  },
  {
   "cell_type": "markdown",
   "metadata": {},
   "source": [
    "mouth_rects = mouth_cascade.detectMultiScale(gray, 1.8,4)\n",
    "for (x,y,w,h) in mouth_rects:\n",
    "    cv2.rectangle(img,(x,y),(x+w,y+h),(0,255,255),2)\n",
    "    roi_gray = gray[y:y+h, x:x+w]\n",
    "    roi_color = img[y:y+h, x:x+w]\n",
    "    #y = int(y - 0.15*h)"
   ]
  }
 ],
 "metadata": {
  "kernelspec": {
   "display_name": "Python 3",
   "language": "python",
   "name": "python3"
  },
  "language_info": {
   "codemirror_mode": {
    "name": "ipython",
    "version": 3
   },
   "file_extension": ".py",
   "mimetype": "text/x-python",
   "name": "python",
   "nbconvert_exporter": "python",
   "pygments_lexer": "ipython3",
   "version": "3.7.6"
  }
 },
 "nbformat": 4,
 "nbformat_minor": 4
}
